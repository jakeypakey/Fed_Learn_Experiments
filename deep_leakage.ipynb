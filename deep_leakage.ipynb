{
 "cells": [
  {
   "cell_type": "code",
   "execution_count": 1,
   "metadata": {},
   "outputs": [],
   "source": [
    "import numpy as np\n",
    "from PIL import Image\n",
    "import torch\n",
    "import torch.nn as nn\n",
    "import torch.nn.functional as F\n",
    "from torch import autograd\n",
    "import torchvision\n",
    "from torch.utils.data import DataLoader\n",
    "from torchvision import models,datasets,transforms\n",
    "from leakageFuncs import Network, trainAndReleaseGrads, cross_entropy_for_onehot\n",
    "batchSize=1"
   ]
  },
  {
   "cell_type": "code",
   "execution_count": 2,
   "metadata": {},
   "outputs": [],
   "source": [
    "trainL = datasets.MNIST(\"./data\",train=True,download=True,transform=transforms.Compose([transforms.ToTensor(),\n",
    "       transforms.Normalize((0.13707,),(.3081,))]))\n",
    "trainData = enumerate(DataLoader(trainL,batch_size=batchSize,shuffle=True))\n",
    "\n",
    "testL = datasets.MNIST(\"./data\",train=False,download=True,transform=transforms.Compose([transforms.ToTensor(),\n",
    "       transforms.Normalize((0.13707,),(.3081,))]))\n",
    "testData = enumerate(DataLoader(testL,batch_size=batchSize,shuffle=True))"
   ]
  },
  {
   "cell_type": "code",
   "execution_count": 3,
   "metadata": {},
   "outputs": [],
   "source": [
    "model = Network()"
   ]
  },
  {
   "cell_type": "code",
   "execution_count": 4,
   "metadata": {},
   "outputs": [
    {
     "data": {
      "text/plain": [
       "Network(\n",
       "  (layers): Sequential(\n",
       "    (0): Conv2d(1, 32, kernel_size=(5, 5), stride=(1, 1), padding=(2, 2))\n",
       "    (1): Sigmoid()\n",
       "    (2): MaxPool2d(kernel_size=2, stride=1, padding=1, dilation=1, ceil_mode=False)\n",
       "    (3): Conv2d(32, 64, kernel_size=(3, 3), stride=(1, 1), padding=(1, 1))\n",
       "    (4): Sigmoid()\n",
       "    (5): MaxPool2d(kernel_size=2, stride=1, padding=1, dilation=1, ceil_mode=False)\n",
       "  )\n",
       "  (fc): Sequential(\n",
       "    (0): Linear(in_features=57600, out_features=10, bias=True)\n",
       "  )\n",
       ")"
      ]
     },
     "execution_count": 4,
     "metadata": {},
     "output_type": "execute_result"
    }
   ],
   "source": [
    "model"
   ]
  },
  {
   "cell_type": "code",
   "execution_count": null,
   "metadata": {},
   "outputs": [],
   "source": []
  },
  {
   "cell_type": "code",
   "execution_count": 5,
   "metadata": {},
   "outputs": [],
   "source": [
    "opt = torch.optim.SGD(model.parameters(),lr=1e-3)\n",
    "crit = cross_entropy_for_onehot"
   ]
  },
  {
   "cell_type": "code",
   "execution_count": null,
   "metadata": {},
   "outputs": [
    {
     "name": "stdout",
     "output_type": "stream",
     "text": [
      "Example: 0, loss: 2.7389235496520996\n",
      "Example: 1000, loss: 3.2808761596679688\n",
      "Example: 2000, loss: 2.613325357437134\n",
      "Example: 3000, loss: 0.47649234533309937\n",
      "Example: 4000, loss: 0.6637847423553467\n"
     ]
    }
   ],
   "source": [
    "model, grad = trainAndReleaseGrads(model,trainData,20000,crit,torch.optim.SGD(model.parameters(),lr=1e-3))"
   ]
  },
  {
   "cell_type": "code",
   "execution_count": null,
   "metadata": {},
   "outputs": [],
   "source": [
    "\n",
    "x = torch.randn(1,1,28,28).requires_grad_(True)\n",
    "y = torch.randn(1,10).requires_grad_(True)\n",
    "toImage = transforms.ToPILImage()"
   ]
  },
  {
   "cell_type": "code",
   "execution_count": null,
   "metadata": {},
   "outputs": [],
   "source": [
    "#our image to start\n",
    "\n",
    "im = toImage(torch.reshape(x,(28,28)))\n",
    "print(\"Here is our data point to start, with label {}\".format(np.argmax(y.detach().numpy())))\n",
    "display(im.resize((5 * 28, 5 * 28), Image.NEAREST))\n"
   ]
  },
  {
   "cell_type": "code",
   "execution_count": null,
   "metadata": {},
   "outputs": [],
   "source": [
    "\n",
    "res = []\n",
    "optimizer = torch.optim.LBFGS([x,y])\n",
    "for i in range(1000):\n",
    "    def closure():\n",
    "        optimizer.zero_grad()\n",
    "        pred = model(x)\n",
    "        oneHotY = F.softmax(y,dim=-1)\n",
    "        modelLoss = crit(pred,oneHotY)\n",
    "        leakGrad = autograd.grad(modelLoss,model.parameters(),create_graph=True)   \n",
    "        distance = 0\n",
    "        for gx,gy in zip(leakGrad,grad):\n",
    "            distance += ((gx - gy)**2).sum()\n",
    "        distance.backward()\n",
    "        return distance\n",
    "    optimizer.step(closure)\n",
    "    if i%50==0:\n",
    "        cur = closure()\n",
    "        print(\"Iter: {}, loss: {}\".format(i,cur.item()))\n",
    "    res.append(x)\n",
    "        #im = toImage(torch.reshape(x,(28,28)))\n",
    "        #print(\"Here is our data point, with label {}\".format(np.argmax(y.detach().numpy())))\n",
    "        #display(im.resize((5 * 28, 5 * 28), Image.NEAREST))"
   ]
  },
  {
   "cell_type": "code",
   "execution_count": null,
   "metadata": {},
   "outputs": [],
   "source": [
    "xFinal = res[-1]"
   ]
  },
  {
   "cell_type": "code",
   "execution_count": null,
   "metadata": {},
   "outputs": [],
   "source": [
    "im = im = toImage(torch.reshape(x,(28,28)))"
   ]
  },
  {
   "cell_type": "code",
   "execution_count": null,
   "metadata": {},
   "outputs": [],
   "source": [
    "display(im.resize((5 * 28, 5 * 28), Image.NEAREST))"
   ]
  },
  {
   "cell_type": "code",
   "execution_count": null,
   "metadata": {},
   "outputs": [],
   "source": []
  }
 ],
 "metadata": {
  "kernelspec": {
   "display_name": "Python 3",
   "language": "python",
   "name": "python3"
  },
  "language_info": {
   "codemirror_mode": {
    "name": "ipython",
    "version": 3
   },
   "file_extension": ".py",
   "mimetype": "text/x-python",
   "name": "python",
   "nbconvert_exporter": "python",
   "pygments_lexer": "ipython3",
   "version": "3.8.3"
  }
 },
 "nbformat": 4,
 "nbformat_minor": 4
}
